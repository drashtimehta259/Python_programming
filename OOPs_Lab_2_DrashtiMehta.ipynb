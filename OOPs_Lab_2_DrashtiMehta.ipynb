{
 "cells": [
  {
   "cell_type": "markdown",
   "id": "19195384",
   "metadata": {},
   "source": [
    "So now that we know a little more about inheritance and how it works, let's update and expand on our previous work with the Sequence class and Sequence records.\n",
    "\n",
    " \n",
    "\n",
    "When we wrote Sequence before, we did so at least somewhat thinking we'd be dealing with DNA sequences. However, that's not always the case,  Sequence could just as well refer to a protein sequence instead. And the methods we wrote in our Sequence class, the things we might have added like get GC count or finding the reverse complement, aren't appropriate for protein sequences.  This represents a great opportunity to utilize inheritance to create two subtypes of Sequence.\n",
    "\n",
    " \n",
    "\n",
    "In a notebook, start with a markdown cell and plan out what you think these 3 classes should look like. What are the common elements of Sequences (things we could define in the parent class Sequence) and what would need to be unique to DNASequence and ProteinSequence classes? What rules do you want to enforce about what these sequences should look like and how do you want enforce those rules? Do you need to override constructors, or could the parent's work? Remember, eventually you want these to work with the SequenceRecord class we built earlier, so don't make any huge fundamental changes that would break that.\n",
    "\n",
    " \n",
    "\n",
    "Your classes should, at minimum:\n",
    "\n",
    "1) have a __repr__ and __str__ that provide a meaningful representation as a string\n",
    "\n",
    "2) check that the bases or amino acids in the string are valid\n",
    "\n",
    "3) work as the argument for a SequenceRecord\n",
    "\n",
    "DNA\n",
    "\n",
    "1) a translate method that will convert the DNA sequence and return a ProteinSequence object\n",
    "\n",
    "2) one other method of your choice (what you did previously is fine)\n",
    "\n",
    "Protein\n",
    "\n",
    "1) a method of your choice. In this case, if the method you would implement is too complex to reasonably implement or would use resources you don't have access to, it is okay to leave it as what is called a stub method (has only one line, \"pass\") and explain in comments what this method would do and it's purpose\n",
    " \n",
    "\n",
    "Here is a dictionary you can copy into your code to help facilitate DNA translation:\n",
    "\n",
    "aa_dict = {'M':['ATG'], 'F':['TTT', 'TTC'], 'L':['TTA', 'TTG', 'CTT', 'CTC', 'CTA', 'CTG'], 'C':['TGT', 'TGC'], 'Y':['TAC', 'TAT'], 'W':['TGG'], 'P':['CCT', 'CCC', 'CCA', 'CCG'], 'H':['CAT', 'CAC'],\n",
    "'Q':['CAA', 'CAG'], 'R':['CGT', 'CGC', 'CGA', 'CGG', 'AGA', 'AGG'], 'I':['ATT', 'ATC', 'ATA'], 'T':['ACT', 'ACC', 'ACA', 'ACG'],\n",
    "'N':['AAT', 'AAC'], 'K':['AAA', 'AAG'], 'S':['AGT', 'AGC', 'TCT', 'TCC', 'TCA', 'TCG'], 'V':['GTT', 'GTC', 'GTA', 'GTG'],\n",
    "'A':['GCT', 'GCC', 'GCA', 'GCG'], 'D':['GAT', 'GAC'], 'E':['GAA', 'GAG'], 'G':['GGT', 'GGC', 'GGA', 'GGG'], '*':['TAA','TAG','TGA']}"
   ]
  },
  {
   "cell_type": "code",
   "execution_count": 2,
   "id": "44cc3f1f",
   "metadata": {},
   "outputs": [],
   "source": [
    "#sequence class goes here\n",
    "from functools import total_ordering\n",
    "@total_ordering\n",
    "\n",
    "# sequence class creation\n",
    "class Seq:\n",
    "    def __init__(self, seqs):\n",
    "        self.seqs = seqs\n",
    "    # for the formal conversion of the string, repr is used\n",
    "    def __repr__(self):\n",
    "        return \"Sequence = {}\".format(self.seqs)\n",
    "    # to informally convert string, str is used\n",
    "    def __str__(self):\n",
    "        return \"DNA Sequence = '{}'\".format(self.seqs)\n",
    "    # when we want to define criteria for two sequences, we use eq and lt\n",
    "    def __eq__(self, other):\n",
    "        return self.seqs == other.seqs\n",
    "    def __lt__(self, other):\n",
    "        return len(self.seqs) < len(other.seqs)\n",
    "    "
   ]
  },
  {
   "cell_type": "code",
   "execution_count": 3,
   "id": "b90f43b6",
   "metadata": {},
   "outputs": [],
   "source": [
    "class DNASeq(Seq):\n",
    "    def Translate(self, dnaseq):\n",
    "        self.dnaseq = dnaseq\n",
    "        aa_dict = {'M':['ATG'], 'F':['TTT', 'TTC'], 'L':['TTA', 'TTG', 'CTT', 'CTC', 'CTA', 'CTG'], 'C':['TGT', 'TGC'], 'Y':['TAC', 'TAT'], 'W':['TGG'], 'P':['CCT', 'CCC', 'CCA', 'CCG'], 'H':['CAT', 'CAC'],\n",
    "                    'Q':['CAA', 'CAG'], 'R':['CGT', 'CGC', 'CGA', 'CGG', 'AGA', 'AGG'], 'I':['ATT', 'ATC', 'ATA'], 'T':['ACT', 'ACC', 'ACA', 'ACG'],\n",
    "                    'N':['AAT', 'AAC'], 'K':['AAA', 'AAG'], 'S':['AGT', 'AGC', 'TCT', 'TCC', 'TCA', 'TCG'], 'V':['GTT', 'GTC', 'GTA', 'GTG'],\n",
    "                    'A':['GCT', 'GCC', 'GCA', 'GCG'], 'D':['GAT', 'GAC'], 'E':['GAA', 'GAG'], 'G':['GGT', 'GGC', 'GGA', 'GGG'], '*':['TAA','TAG','TGA']}      \n",
    "        proteinseq = ''\n",
    "        for i in range(0,len(dnaseq) - 2,3):\n",
    "            #print(dnaseq[i:i+3])\n",
    "            for key,value in aa_dict.items():\n",
    "                if dnaseq[i:i+3] in value:\n",
    "                    proteinseq+=key\n",
    "                else:\n",
    "                    pass\n",
    "        print(f'Protein sequence is {proteinseq}')\n",
    "    def GC(self, n):\n",
    "        self.n = n\n",
    "        count = 0\n",
    "        for i in n:\n",
    "            if i == \"C\" or i == \"G\":\n",
    "                count = count + 1\n",
    "        return count\n",
    "    def Validate(self, seqs):\n",
    "        self.seqs = seqs\n",
    "        Nucleotide = [\"A\", \"T\", \"G\", \"C\"]\n",
    "        tempseq = self.seqs\n",
    "        for nuc in tempseq:\n",
    "            if nuc not in Nucleotide:\n",
    "                return False\n",
    "        return tempseq"
   ]
  },
  {
   "cell_type": "code",
   "execution_count": 4,
   "id": "ad98c948",
   "metadata": {},
   "outputs": [],
   "source": [
    "# mentioning a random seqeunce for DNA as a sample\n",
    "dna1 = Seq(\"ATGCTAGCATGCATATCGATC\")\n",
    "# mentioning a random seqeunce for DNA as a sample\n",
    "dna2 = Seq(\"ATCGAGCATCGATCG\")"
   ]
  },
  {
   "cell_type": "code",
   "execution_count": 5,
   "id": "5aebf1c7",
   "metadata": {
    "scrolled": true
   },
   "outputs": [
    {
     "data": {
      "text/plain": [
       "'ATCGAGCATCGATCG'"
      ]
     },
     "execution_count": 5,
     "metadata": {},
     "output_type": "execute_result"
    }
   ],
   "source": [
    "# Validating a sequence\n",
    "a = DNASeq(dna2)\n",
    "a.Validate(\"ATCGAGCATCGATCG\")"
   ]
  },
  {
   "cell_type": "code",
   "execution_count": 6,
   "id": "043d18ff",
   "metadata": {},
   "outputs": [
    {
     "name": "stdout",
     "output_type": "stream",
     "text": [
      "Protein sequence is MLACISI\n"
     ]
    }
   ],
   "source": [
    "# translation of DNA seq to protein\n",
    "d = DNASeq(dna1)\n",
    "d.Translate(\"ATGCTAGCATGCATATCGATC\")"
   ]
  },
  {
   "cell_type": "code",
   "execution_count": 7,
   "id": "f8834d74",
   "metadata": {},
   "outputs": [
    {
     "data": {
      "text/plain": [
       "9"
      ]
     },
     "execution_count": 7,
     "metadata": {},
     "output_type": "execute_result"
    }
   ],
   "source": [
    "# counting the GC content in the DNA seq\n",
    "c = DNASeq(\"ATGCTAGCATGCATATCGATC\")\n",
    "c.GC(\"ATGCTAGCATGCATATCGATC\")"
   ]
  },
  {
   "cell_type": "code",
   "execution_count": 8,
   "id": "6fed8099",
   "metadata": {},
   "outputs": [],
   "source": [
    "\n",
    "class ProteinSeq(Seq):\n",
    "    def Validate(self, seqs):\n",
    "        self.seqs = seqs\n",
    "        AA = [\"A\",\"R\",\"N\",\"D\",\"C\",\"Q\",\"E\",\"G\",\"H\",\"I\",\n",
    "              \"L\",\"K\",\"M\",\"F\",\"P\",\"S\",\"T\",\"W\",\"Y\",\"V\"]\n",
    "        temp_aa = self.seqs\n",
    "        for aa in temp_aa:\n",
    "            if aa not in AA:\n",
    "                return False\n",
    "        return temp_aa\n",
    "\n",
    "    def AAfreq(self, seqs):\n",
    "        temp_aa = {\"A\":0,\"R\":0,\"N\":0,\"D\":0,\"C\":0,\"Q\":0,\"E\":0,\"G\":0,\"H\":0,\"I\":0,\n",
    "                  \"L\":0,\"K\":0,\"M\":0,\"F\":0,\"P\":0,\"S\":0,\"T\":0,\"W\":0,\"Y\":0,\"V\":0}\n",
    "        for aa in seqs:\n",
    "            temp_aa[aa] += 1\n",
    "        return temp_aa"
   ]
  },
  {
   "cell_type": "code",
   "execution_count": 9,
   "id": "ef3657a1",
   "metadata": {},
   "outputs": [],
   "source": [
    "# mentioning a random sequence for Protein as a sample\n",
    "prot1 = Seq(\"HAPPYNEWYEAR\")\n",
    "# mentioning a random sequence for Protein as a sample\n",
    "prot2 = Seq(\"GREATDAY\")"
   ]
  },
  {
   "cell_type": "code",
   "execution_count": 10,
   "id": "42455d67",
   "metadata": {},
   "outputs": [
    {
     "data": {
      "text/plain": [
       "'GREATDAY'"
      ]
     },
     "execution_count": 10,
     "metadata": {},
     "output_type": "execute_result"
    }
   ],
   "source": [
    "p = ProteinSeq(prot2)\n",
    "p.Validate(\"GREATDAY\")"
   ]
  },
  {
   "cell_type": "code",
   "execution_count": 11,
   "id": "d21a02b4",
   "metadata": {},
   "outputs": [
    {
     "data": {
      "text/plain": [
       "{'A': 2,\n",
       " 'R': 1,\n",
       " 'N': 1,\n",
       " 'D': 0,\n",
       " 'C': 0,\n",
       " 'Q': 0,\n",
       " 'E': 2,\n",
       " 'G': 0,\n",
       " 'H': 1,\n",
       " 'I': 0,\n",
       " 'L': 0,\n",
       " 'K': 0,\n",
       " 'M': 0,\n",
       " 'F': 0,\n",
       " 'P': 2,\n",
       " 'S': 0,\n",
       " 'T': 0,\n",
       " 'W': 1,\n",
       " 'Y': 2,\n",
       " 'V': 0}"
      ]
     },
     "execution_count": 11,
     "metadata": {},
     "output_type": "execute_result"
    }
   ],
   "source": [
    "cnt = ProteinSeq(prot1)\n",
    "cnt.AAfreq(\"HAPPYNEWYEAR\")"
   ]
  },
  {
   "cell_type": "code",
   "execution_count": 12,
   "id": "987845fe",
   "metadata": {},
   "outputs": [],
   "source": [
    "# SequenceRecord class goes here\n",
    "\n",
    "# creation of a Sequence Record class\n",
    "class SequenceRecord:\n",
    "    def __init__(self, label, seq):\n",
    "        self.label = label\n",
    "        if type(seq) is Seq:\n",
    "            self.Seq = seq\n",
    "    # using repr and str\n",
    "    def __repr__(self):\n",
    "        return \"As per repr -> Label: {}, Object type is Sequence: {}, Sequence: {}\".format(self.label, isinstance(self.Seq, Seq), self.Seq.seqs)\n",
    "    def __str__(self):\n",
    "        return \"As per str -> Label: {}, Object type is Sequence: {}, Sequence: {}\".format(self.label, isinstance(self.Seq, Seq), self.Seq.seqs) \n"
   ]
  },
  {
   "cell_type": "code",
   "execution_count": 13,
   "id": "04ed3080",
   "metadata": {},
   "outputs": [
    {
     "name": "stdout",
     "output_type": "stream",
     "text": [
      "As per str -> Label: Mus musculus, Object type is Sequence: True, Sequence: HAPPYNEWYEAR\n"
     ]
    }
   ],
   "source": [
    "ptnseq = SequenceRecord ('Mus musculus', prot1)\n",
    "print(ptnseq)"
   ]
  }
 ],
 "metadata": {
  "kernelspec": {
   "display_name": "Python 3 (ipykernel)",
   "language": "python",
   "name": "python3"
  },
  "language_info": {
   "codemirror_mode": {
    "name": "ipython",
    "version": 3
   },
   "file_extension": ".py",
   "mimetype": "text/x-python",
   "name": "python",
   "nbconvert_exporter": "python",
   "pygments_lexer": "ipython3",
   "version": "3.9.7"
  }
 },
 "nbformat": 4,
 "nbformat_minor": 5
}
