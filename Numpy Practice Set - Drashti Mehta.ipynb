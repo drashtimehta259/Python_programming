{
 "cells": [
  {
   "cell_type": "markdown",
   "metadata": {},
   "source": [
    "Subtract the 1D Array *arr2* from the 2D array *arr1*, such that each item of *arr2* subtracts from respective row of *arr1*\n",
    "\n",
    "Ex\n",
    "\n",
    "arr1 = `[[x1, x2 , x3], [y1, y2, y3], [z1,z2,z3]]`\n",
    "\n",
    "arr2 = `[x,y,z]`\n",
    "\n",
    "Result `[ [ x1-x, x2-x, x3-x],` etc"
   ]
  },
  {
   "cell_type": "code",
   "execution_count": 48,
   "metadata": {},
   "outputs": [
    {
     "name": "stdout",
     "output_type": "stream",
     "text": [
      "[1 4 6]\n",
      "[ 2 -3 -1]\n",
      "[0 7 2]\n"
     ]
    }
   ],
   "source": [
    "import numpy as np\n",
    "arr1 = np.array([[2,5,7], [8,3,5], [2,9,4]])\n",
    "arr2 = np.array([1,6,2])\n",
    "\n",
    "# using indexing\n",
    "var1 = arr1[0] - arr2[0]\n",
    "var2 = arr1[1] - arr2[1]\n",
    "var3 = arr1[2] - arr2[2]\n",
    "print(var1)\n",
    "print(var2)\n",
    "print(var3)"
   ]
  },
  {
   "cell_type": "code",
   "execution_count": 15,
   "metadata": {},
   "outputs": [
    {
     "name": "stdout",
     "output_type": "stream",
     "text": [
      "[ 1  4  6  2 -3 -1  0  7  2]\n"
     ]
    }
   ],
   "source": [
    "# merging the results using concatenate function\n",
    "var = np.concatenate((var1, var2, var3))\n",
    "print(var)"
   ]
  },
  {
   "cell_type": "markdown",
   "metadata": {},
   "source": [
    "Given a 1D Array, find the local maxima (numbers surrounded by 2 smaller numbers)"
   ]
  },
  {
   "cell_type": "code",
   "execution_count": 34,
   "metadata": {},
   "outputs": [
    {
     "name": "stdout",
     "output_type": "stream",
     "text": [
      "9\n"
     ]
    }
   ],
   "source": [
    "arr = np.array([2,5,7,8,3,5,2,9,4])\n",
    "\n",
    "# to find the maximum number in the array - \n",
    "#it is different than local maxima\n",
    "maximum = arr.max()\n",
    "print(maximum)        "
   ]
  },
  {
   "cell_type": "code",
   "execution_count": 35,
   "metadata": {},
   "outputs": [
    {
     "name": "stdout",
     "output_type": "stream",
     "text": [
      "8\n",
      "5\n",
      "9\n"
     ]
    }
   ],
   "source": [
    "# to find the local maxima\n",
    "for i in range(9):\n",
    "    if arr[i] > arr[i-1] and arr[i] > arr[i+1]:\n",
    "        print(arr[i])"
   ]
  },
  {
   "cell_type": "markdown",
   "metadata": {},
   "source": [
    "Given two n x m Arrays, compute the average of elements in matching subarrays\n",
    "\n",
    "Ex\n",
    "\n",
    "arr1      \n",
    "`[[1,1],[2,2],[3,3]]`\n",
    "\n",
    "arr2      \n",
    "`[[1,1],[2,2],[3,3]]`\n",
    "\n",
    "result:\n",
    "`[1,2,3]`\n",
    "\n"
   ]
  },
  {
   "cell_type": "code",
   "execution_count": 47,
   "metadata": {},
   "outputs": [
    {
     "name": "stdout",
     "output_type": "stream",
     "text": [
      "[2.5 3.5 7.5 3.5 5.5 6.5]\n"
     ]
    }
   ],
   "source": [
    "arr3 = np.array([[2,5], [8,3], [2,9]])\n",
    "arr4 = np.array([[3,2], [7,4], [9,4]])\n",
    "\n",
    "#avg1 = np.mean(arr3[0], arr4[0])\n",
    "\n",
    "avg1 = (arr3[0] + arr4[0]) / 2\n",
    "avg2 = (arr3[1] + arr4[1]) / 2\n",
    "avg3 = (arr3[2] + arr4[2]) / 2\n",
    "print(np.concatenate((avg1,avg2,avg3)))"
   ]
  }
 ],
 "metadata": {
  "kernelspec": {
   "display_name": "Python 3 (ipykernel)",
   "language": "python",
   "name": "python3"
  },
  "language_info": {
   "codemirror_mode": {
    "name": "ipython",
    "version": 3
   },
   "file_extension": ".py",
   "mimetype": "text/x-python",
   "name": "python",
   "nbconvert_exporter": "python",
   "pygments_lexer": "ipython3",
   "version": "3.9.7"
  }
 },
 "nbformat": 4,
 "nbformat_minor": 4
}
