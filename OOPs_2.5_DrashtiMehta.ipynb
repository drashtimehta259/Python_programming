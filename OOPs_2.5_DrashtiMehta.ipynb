{
 "cells": [
  {
   "cell_type": "code",
   "execution_count": 51,
   "id": "2fa29313",
   "metadata": {},
   "outputs": [],
   "source": [
    "# dictionary provided for the conversion of DNA sequence into protein sequence"
   ]
  },
  {
   "cell_type": "code",
   "execution_count": 52,
   "id": "2aff9866",
   "metadata": {},
   "outputs": [],
   "source": [
    " aa_dict = {'M':['ATG'], 'F':['TTT', 'TTC'], 'L':['TTA', 'TTG', 'CTT', 'CTC', 'CTA', 'CTG'], \n",
    "            'C':['TGT', 'TGC'], 'Y':['TAC', 'TAT'], 'W':['TGG'], 'P':['CCT', 'CCC', 'CCA', 'CCG'], \n",
    "            'H':['CAT', 'CAC'],'Q':['CAA', 'CAG'], 'R':['CGT', 'CGC', 'CGA', 'CGG', 'AGA', 'AGG'], \n",
    "            'I':['ATT', 'ATC', 'ATA'], 'T':['ACT', 'ACC', 'ACA', 'ACG'],'N':['AAT', 'AAC'], \n",
    "            'K':['AAA', 'AAG'], 'S':['AGT', 'AGC', 'TCT', 'TCC', 'TCA', 'TCG'], \n",
    "            'V':['GTT', 'GTC', 'GTA', 'GTG'], 'A':['GCT', 'GCC', 'GCA', 'GCG'], \n",
    "            'D':['GAT', 'GAC'], 'E':['GAA', 'GAG'], 'G':['GGT', 'GGC', 'GGA', 'GGG'], '*':['TAA','TAG','TGA']}      "
   ]
  },
  {
   "cell_type": "code",
   "execution_count": 53,
   "id": "c1549368",
   "metadata": {},
   "outputs": [],
   "source": [
    "from functools import total_ordering\n",
    "@total_ordering\n",
    "\n",
    "# parent class\n",
    "\n",
    "class Seq:\n",
    "    def __init__(self, seqs):\n",
    "        self.seqs = seqs\n",
    "    # for the formal conversion of the string, repr is used\n",
    "    def __repr__(self):\n",
    "        return \"Sequence = {}\".format(self.seqs)\n",
    "    # to informally convert string, str is used\n",
    "    def __str__(self):\n",
    "        return \"DNA Sequence = '{}'\".format(self.seqs)\n",
    "    # when we want to define criteria for two sequences, we use eq and lt\n",
    "    def __eq__(self, other):\n",
    "        return self.seqs == other.seqs\n",
    "    def __lt__(self, other):\n",
    "        return len(self.seqs) < len(other.seqs)\n",
    "    \n",
    "    \n",
    "# using a static method\n",
    "\n",
    "    @staticmethod\n",
    "    \n",
    "    # varifying sequence content\n",
    "    def verifySequenceContent(seqs):\n",
    "        Nucleotide = [\"A\", \"T\", \"G\", \"C\"]\n",
    "        tempseq = self.seqs\n",
    "        for nuc in tempseq:\n",
    "            if nuc not in Nucleotide:\n",
    "                return False\n",
    "        return tempseq\n",
    "    \n",
    "    #translation\n",
    "    def Translate(self):\n",
    "        dnaseq = self.seqs\n",
    "        proteinseq = ''\n",
    "        for i in range(0,len(dnaseq) - 2,3):\n",
    "            #print(dnaseq[i:i+3])\n",
    "            for key,value in aa_dict.items():\n",
    "                if dnaseq[i:i+3] in value:\n",
    "                    proteinseq+=key\n",
    "                else:\n",
    "                    pass\n",
    "        print(f'Protein sequence is {proteinseq}')\n",
    "    \n",
    "    # GC conent\n",
    "    def GC(self):\n",
    "        self.seqs = seqs\n",
    "        count = 0\n",
    "        for i in seqs:\n",
    "            if i == \"C\" or i == \"G\":\n",
    "                count = count + 1\n",
    "                percent = [count/len(seqs)]*100\n",
    "        return percent"
   ]
  },
  {
   "cell_type": "code",
   "execution_count": 54,
   "id": "c665d48a",
   "metadata": {},
   "outputs": [],
   "source": [
    "# mentioning a random seqeunce for DNA as a sample\n",
    "dna1 = Seq(\"ATGCTAGCATGCATATCGATC\")\n",
    "# mentioning a random seqeunce for DNA as a sample\n",
    "dna2 = Seq(\"ATCGAGCATCGATCG\")"
   ]
  },
  {
   "cell_type": "code",
   "execution_count": 55,
   "id": "00e279fd",
   "metadata": {},
   "outputs": [],
   "source": [
    "# mentioning a random sequence for Protein as a sample\n",
    "prot1 = Seq(\"HAPPYNEWYEAR\")\n",
    "# mentioning a random sequence for Protein as a sample\n",
    "prot2 = Seq(\"GREATDAY\")"
   ]
  },
  {
   "cell_type": "code",
   "execution_count": 56,
   "id": "69206e5f",
   "metadata": {},
   "outputs": [
    {
     "name": "stdout",
     "output_type": "stream",
     "text": [
      "DNA Sequence = 'ATGCTAGCATGCATATCGATC'\n"
     ]
    }
   ],
   "source": [
    "# printing the sequence using str\n",
    "print(str(dna1))"
   ]
  },
  {
   "cell_type": "code",
   "execution_count": 57,
   "id": "d8ddf873",
   "metadata": {},
   "outputs": [
    {
     "name": "stdout",
     "output_type": "stream",
     "text": [
      "False\n"
     ]
    }
   ],
   "source": [
    "# checking if the two sewuences are equal or not\n",
    "print(dna1 == dna2)"
   ]
  },
  {
   "cell_type": "code",
   "execution_count": 58,
   "id": "1c613208",
   "metadata": {},
   "outputs": [
    {
     "name": "stdout",
     "output_type": "stream",
     "text": [
      "False\n"
     ]
    }
   ],
   "source": [
    "# comparing the lengths of dna sequences\n",
    "print(dna1 < dna2)"
   ]
  },
  {
   "cell_type": "code",
   "execution_count": 59,
   "id": "90192775",
   "metadata": {},
   "outputs": [],
   "source": [
    "#SequenceRecord class\n",
    "\n",
    "# creation of a Sequence Record class\n",
    "class SequenceRecord:\n",
    "    def __init__(self, label, seq):\n",
    "        self.label = label\n",
    "        if type(seq) is Seq:\n",
    "            self.Seq = seq\n",
    "    # using repr and str\n",
    "    def __repr__(self):\n",
    "        return \"As per repr -> Label: {}, Object type is Sequence: {}, Sequence: {}\".format(self.label, isinstance(self.Seq, Seq), self.Seq.seqs)\n",
    "    def __str__(self):\n",
    "        return \"As per str -> Label: {}, Object type is Sequence: {}, Sequence: {}\".format(self.label, isinstance(self.Seq, Seq), self.Seq.seqs) \n"
   ]
  },
  {
   "cell_type": "code",
   "execution_count": 60,
   "id": "4d8d7916",
   "metadata": {},
   "outputs": [
    {
     "name": "stdout",
     "output_type": "stream",
     "text": [
      "As per str -> Label: Mus musculus, Object type is Sequence: True, Sequence: HAPPYNEWYEAR\n"
     ]
    }
   ],
   "source": [
    "ptnseq = SequenceRecord ('Mus musculus', prot1)\n",
    "print(ptnseq)"
   ]
  },
  {
   "cell_type": "code",
   "execution_count": 61,
   "id": "2011addc",
   "metadata": {},
   "outputs": [],
   "source": [
    "#CODE_WITH_BIO_PACKAGE:\n",
    "\n",
    "#Write your parser and testing code here\n",
    "\n",
    "from Bio import SeqIO\n",
    "\n",
    "#ID and Sequence list creation\n",
    "IDs = []\n",
    "Sequences = []\n",
    "\n",
    "#parsing the downloaded fasta file\n",
    "fasta_file = SeqIO.parse(open(\"D:/UNCC/Sem_2/6112_python/Gm45925.fasta\"),'fasta')\n",
    "for i in fasta_file:\n",
    "    a = str(i.id)\n",
    "    b = str(i.seq)\n",
    "    IDs.append(a)\n",
    "    Sequences.append(b)"
   ]
  },
  {
   "cell_type": "code",
   "execution_count": 62,
   "id": "020f8446",
   "metadata": {},
   "outputs": [],
   "source": [
    "#fasta list creation\n",
    "fasta_seq = []\n",
    "for i in range(len(IDs)):\n",
    "    record = SequenceRecord(IDs[i], Seq(Sequences[i]))\n",
    "    fasta_seq.append(record)"
   ]
  },
  {
   "cell_type": "code",
   "execution_count": 63,
   "id": "619df7cf",
   "metadata": {},
   "outputs": [
    {
     "data": {
      "text/plain": [
       "1"
      ]
     },
     "execution_count": 63,
     "metadata": {},
     "output_type": "execute_result"
    }
   ],
   "source": [
    "#checking how many records are into the fasta file which is opened\n",
    "len(fasta_seq)"
   ]
  },
  {
   "cell_type": "code",
   "execution_count": 64,
   "id": "d8bbd211",
   "metadata": {},
   "outputs": [
    {
     "name": "stdout",
     "output_type": "stream",
     "text": [
      "As per str -> Label: NG_042092.2, Object type is Sequence: True, Sequence: GGGTAGGGGAGCAGGGTGGGAGAGGGTATAGGGGACTTTCAGGATAGCATTTGAAATGTAAATGAAGAAAATACCTAATAAATATTGGGAAAAAAAGAGTGCAGAGGTTGTGTTCAGAGATATTGTGAAATATCTCTGGATGCTCCTTGTTAGCAATCAGAACTTAAAGTACCTCAATCTAGGGAACACTCCCATGAAGGATGATGACATCAATTTTAGCCCGTGATGTGCTGAAATATCCAAGCTGCTCCCTGGAGACTCTGAGGTTGGATTCCTGTGAATTAACCCTCACTGGTTAGGAGATGATCTCCATGCTCCTCCTTTCTATCACCAGTCTAAAGTGTCTCAGCCTGGCCAAAAATAAGGTGGGGGTAAAGAGCATGATATCCCTTGAGTAGGTCAACGTGTCCACTGCAGAAGCTAATACCAGACAGCTGTGCCTCACACCTGTCAGATGCCACCTTCTGGCCTCAGCCCTTTTTAGCAACCAGAACTTGACTCACCTGAGCCTGTCAAACAACAGCCTGGGGACTGAAGAAGTGCAATAGCTGTGTCAGTTCGTGAGGAATCCAGAATGTGCTCTCCAGTGGCTGGTACTGAATCACTGCATCATTATAGATGATGCCTAAGACTTCCTGGTGTTGATACTTACAAACAACAGAAAGCTGACACATCTGTGCCTGACCATGAGCCCTGTACAGAAAAGTTCAATGAATCTACTGTGTGAAGCTTTAAAGGAGGCTACTTGTTGCCTTCAAGAACTGGAACTAGTGGGCTGCCCGCTCACAGAGAACTGCTGCCAGTACCTGTTGTATGATCACAACAACCAAGCACTTCAAAGGCTTGGTAACACTGCCCTGGGTGACAAAGGAGTCATAACTCTGTTAGAGGGACTGAAGCAAAGTAGCGGCTCCCTGGGGAGACTTGGGTTGGGAGCATGTGAGTTCACTTCCAACCACTGTGAGGCAATGTCATCGGCCCTGTCTTGCAACTCGCATCTGAACATCCTAAACCTGATGAAGAATGACTTCAGCAAATCGGGGATGTTGAAGCTGTGCTCTGTGTTCTAATGCCCTGCCTCTAATCTGTGGATAATAGGCCTGTGGAAACAGCAGTACTATGCCTAGGTGAGAAGACAGCTGGAGGGAGTGCAGTTTTTCAAGCCACATGTGGTGATTGATGGTCACCGGTATGCTATTCATAGAAGATGTCTGTAACTGGTGGAAAAACTGAAGACATGAGTCCCCTTCTCTCCTTCACATCCTAGGACTTCTTTATCTGTGAAATGTTTGTCTCACCTCAGAGGATGTAGTGAGGATGAAATAAACACAGAGCATTTAGAAAAGCAAGCAAGCAAACAAACAAACAAAACAAACTTTACATGCATGTCTGTGTGGCCAATGCGGTTAAGAATCGAGCAGAGTCCCTGGAGCTGTCGGTTACTGACA\n"
     ]
    }
   ],
   "source": [
    "#printing the fasta file\n",
    "for i in fasta_seq:\n",
    "    print(i)"
   ]
  },
  {
   "cell_type": "code",
   "execution_count": 91,
   "id": "fa191593",
   "metadata": {},
   "outputs": [],
   "source": [
    "# protein sequence\n",
    "\n",
    "class ProteinSeq(Seq):\n",
    "    \n",
    "    @staticmethod\n",
    "    # \n",
    "    def verifySequenceContent(self):\n",
    "        self.seqs = seqs\n",
    "        AA = [\"A\",\"R\",\"N\",\"D\",\"C\",\"Q\",\"E\",\"G\",\"H\",\"I\",\n",
    "              \"L\",\"K\",\"M\",\"F\",\"P\",\"S\",\"T\",\"W\",\"Y\",\"V\",\"*\"]\n",
    "        temp_aa = self.seqs\n",
    "        for aa in temp_aa:\n",
    "            if aa not in AA:\n",
    "                return False\n",
    "        return temp_aa\n",
    "\n",
    "    def AAfreq(self):\n",
    "        temp_aa = {\"A\":0,\"R\":0,\"N\":0,\"D\":0,\"C\":0,\"Q\":0,\"E\":0,\"G\":0,\"H\":0,\"I\":0,\n",
    "                  \"L\":0,\"K\":0,\"M\":0,\"F\":0,\"P\":0,\"S\":0,\"T\":0,\"W\":0,\"Y\":0,\"V\":0,\"*\":0}\n",
    "        for aa in self.seqs:\n",
    "            temp_aa[aa] += 1\n",
    "        return temp_aa \n",
    "    \n",
    "    def revTranscript(self):\n",
    "        return self.seqs[::-1]"
   ]
  },
  {
   "cell_type": "code",
   "execution_count": 83,
   "id": "1fd6504d",
   "metadata": {},
   "outputs": [
    {
     "name": "stdout",
     "output_type": "stream",
     "text": [
      "Protein sequence is MLACISI\n",
      "None\n"
     ]
    }
   ],
   "source": [
    "print(dna1.Translate())"
   ]
  },
  {
   "cell_type": "code",
   "execution_count": 84,
   "id": "6e31e5d5",
   "metadata": {},
   "outputs": [],
   "source": [
    "prot_seq = ProteinSeq(\"MLACISI\")"
   ]
  },
  {
   "cell_type": "code",
   "execution_count": 85,
   "id": "60c40169",
   "metadata": {},
   "outputs": [
    {
     "name": "stdout",
     "output_type": "stream",
     "text": [
      "ISICALM\n"
     ]
    }
   ],
   "source": [
    "print(prot_seq.revTranscript())"
   ]
  },
  {
   "cell_type": "code",
   "execution_count": 86,
   "id": "22d093ec",
   "metadata": {},
   "outputs": [
    {
     "name": "stdout",
     "output_type": "stream",
     "text": [
      "{'A': 1, 'R': 0, 'N': 0, 'D': 0, 'C': 1, 'Q': 0, 'E': 0, 'G': 0, 'H': 0, 'I': 2, 'L': 1, 'K': 0, 'M': 1, 'F': 0, 'P': 0, 'S': 1, 'T': 0, 'W': 0, 'Y': 0, 'V': 0, '*': 0}\n"
     ]
    }
   ],
   "source": [
    "print(prot_seq.AAfreq())"
   ]
  }
 ],
 "metadata": {
  "kernelspec": {
   "display_name": "Python 3 (ipykernel)",
   "language": "python",
   "name": "python3"
  },
  "language_info": {
   "codemirror_mode": {
    "name": "ipython",
    "version": 3
   },
   "file_extension": ".py",
   "mimetype": "text/x-python",
   "name": "python",
   "nbconvert_exporter": "python",
   "pygments_lexer": "ipython3",
   "version": "3.9.7"
  }
 },
 "nbformat": 4,
 "nbformat_minor": 5
}
