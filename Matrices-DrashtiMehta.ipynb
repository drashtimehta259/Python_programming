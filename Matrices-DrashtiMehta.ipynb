{
 "cells": [
  {
   "cell_type": "markdown",
   "metadata": {},
   "source": [
    "Name:\n",
    "\n",
    "Email:\n",
    "\n",
    "## Matrices\n",
    "\n",
    "For this lab, you'll be using numpy arrays to design functions that will perform matrix addition and math. If you need to review how Matrix addition and multiplication work, review the following links:\n",
    "\n",
    "- [Multiplication](https://en.wikipedia.org/wiki/Matrix_multiplication)\n",
    "- [Addition](https://en.wikipedia.org/wiki/Matrix_addition)\n",
    "\n",
    "##### A couple of notes:\n",
    "- You should have two functions, one for addition, one for multiplication\n",
    "- These functions should take two parameters, each one being a 2 Dimensional numpy array. It should return a numpy array.\n",
    "- I am testing you on your ability to create the necessary loops, the arrays themselves, and your ability to use indexing and splicing in the context of a numpy array. You should not use any of the built in numpy methods to shortcut this process.\n",
    "- Show your results. Let us see your test cases and what each produced.\n",
    "\n",
    "Extra Credit opportunity: Bonus points can be earned for included the checks that would determine if addition or multiplication is allowed based on the dimensions of each array."
   ]
  },
  {
   "cell_type": "code",
   "execution_count": 42,
   "metadata": {},
   "outputs": [],
   "source": [
    "import numpy as np\n",
    "\n",
    "arr1 = np.array([[2,5], [8,3]])\n",
    "arr2 = np.array([[3,2], [7,4]])\n",
    "arr3 = np.array([[2,5,4], [8,3,6]])"
   ]
  },
  {
   "cell_type": "code",
   "execution_count": 43,
   "metadata": {},
   "outputs": [],
   "source": [
    "def addt(x,y):\n",
    "    if (x.size == y.size):\n",
    "        return x + y\n",
    "    else:\n",
    "        print(\"unequal dimensions\")"
   ]
  },
  {
   "cell_type": "code",
   "execution_count": 44,
   "metadata": {},
   "outputs": [
    {
     "data": {
      "text/plain": [
       "array([[ 5,  7],\n",
       "       [15,  7]])"
      ]
     },
     "execution_count": 44,
     "metadata": {},
     "output_type": "execute_result"
    }
   ],
   "source": [
    "addt(arr1,arr2)"
   ]
  },
  {
   "cell_type": "code",
   "execution_count": 45,
   "metadata": {},
   "outputs": [
    {
     "name": "stdout",
     "output_type": "stream",
     "text": [
      "unequal dimensions\n"
     ]
    }
   ],
   "source": [
    "addt(arr2, arr3)"
   ]
  },
  {
   "cell_type": "code",
   "execution_count": 62,
   "metadata": {},
   "outputs": [],
   "source": [
    "def multi(x,y):\n",
    "    result = [[0,0],[0,0]]\n",
    "    if (x.size == y.size):\n",
    "        for i in range(len(x)):\n",
    "            for j in range(len(y[0])):\n",
    "                for k in range(len(y)):\n",
    "                        result[i][j] += x[i][k] * y[k][j]\n",
    "        return result\n",
    "    else:\n",
    "        return 'unequal dimesions'"
   ]
  },
  {
   "cell_type": "code",
   "execution_count": 63,
   "metadata": {},
   "outputs": [
    {
     "data": {
      "text/plain": [
       "[[41, 24], [45, 28]]"
      ]
     },
     "execution_count": 63,
     "metadata": {},
     "output_type": "execute_result"
    }
   ],
   "source": [
    "multi(arr1,arr2)"
   ]
  },
  {
   "cell_type": "code",
   "execution_count": 64,
   "metadata": {},
   "outputs": [
    {
     "data": {
      "text/plain": [
       "'unequal dimesions'"
      ]
     },
     "execution_count": 64,
     "metadata": {},
     "output_type": "execute_result"
    }
   ],
   "source": [
    "multi(arr2,arr3)"
   ]
  },
  {
   "cell_type": "code",
   "execution_count": 50,
   "metadata": {},
   "outputs": [
    {
     "data": {
      "text/plain": [
       "array([[41, 24],\n",
       "       [45, 28]])"
      ]
     },
     "execution_count": 50,
     "metadata": {},
     "output_type": "execute_result"
    }
   ],
   "source": [
    "r = np.dot(arr1, arr2)\n",
    "r"
   ]
  }
 ],
 "metadata": {
  "kernelspec": {
   "display_name": "Python 3 (ipykernel)",
   "language": "python",
   "name": "python3"
  },
  "language_info": {
   "codemirror_mode": {
    "name": "ipython",
    "version": 3
   },
   "file_extension": ".py",
   "mimetype": "text/x-python",
   "name": "python",
   "nbconvert_exporter": "python",
   "pygments_lexer": "ipython3",
   "version": "3.9.7"
  }
 },
 "nbformat": 4,
 "nbformat_minor": 4
}
