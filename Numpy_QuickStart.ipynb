{
 "cells": [
  {
   "cell_type": "markdown",
   "id": "979130cc",
   "metadata": {},
   "source": [
    "NUMPY QUICKSTART"
   ]
  },
  {
   "cell_type": "code",
   "execution_count": 2,
   "id": "3b7ccc66",
   "metadata": {},
   "outputs": [],
   "source": [
    "#importing numpy library\n",
    "import numpy as np"
   ]
  },
  {
   "cell_type": "markdown",
   "id": "56485e6b",
   "metadata": {},
   "source": [
    "ARRAY CREATION"
   ]
  },
  {
   "cell_type": "code",
   "execution_count": 3,
   "id": "7ad5bfa8",
   "metadata": {},
   "outputs": [],
   "source": [
    "# creating arrays\n",
    "arr1 = np.array([[2,5,7], [8,3,5], [2,9,4]])\n",
    "arr2 = np.array([1,6,2])"
   ]
  },
  {
   "cell_type": "code",
   "execution_count": 5,
   "id": "a72f268b",
   "metadata": {},
   "outputs": [
    {
     "data": {
      "text/plain": [
       "2"
      ]
     },
     "execution_count": 5,
     "metadata": {},
     "output_type": "execute_result"
    }
   ],
   "source": [
    "# finding the dimensions \n",
    "dim = arr1.ndim\n",
    "dim"
   ]
  },
  {
   "cell_type": "code",
   "execution_count": 6,
   "id": "54765e18",
   "metadata": {},
   "outputs": [
    {
     "data": {
      "text/plain": [
       "dtype('int32')"
      ]
     },
     "execution_count": 6,
     "metadata": {},
     "output_type": "execute_result"
    }
   ],
   "source": [
    "# checking type of array\n",
    "arr2.dtype"
   ]
  },
  {
   "cell_type": "code",
   "execution_count": 12,
   "id": "56000476",
   "metadata": {},
   "outputs": [
    {
     "data": {
      "text/plain": [
       "array([[0., 0., 0.],\n",
       "       [0., 0., 0.]])"
      ]
     },
     "execution_count": 12,
     "metadata": {},
     "output_type": "execute_result"
    }
   ],
   "source": [
    "# creating array full of zeros\n",
    "zero = np.zeros((2,3))\n",
    "zero\n"
   ]
  },
  {
   "cell_type": "code",
   "execution_count": 13,
   "id": "fa832ca5",
   "metadata": {},
   "outputs": [
    {
     "data": {
      "text/plain": [
       "array([[1., 1., 1., 1.],\n",
       "       [1., 1., 1., 1.],\n",
       "       [1., 1., 1., 1.]])"
      ]
     },
     "execution_count": 13,
     "metadata": {},
     "output_type": "execute_result"
    }
   ],
   "source": [
    "# creating array full of ones\n",
    "one = np.ones((3,4)) \n",
    "one"
   ]
  },
  {
   "cell_type": "markdown",
   "id": "a6a538fa",
   "metadata": {},
   "source": [
    "PRINTING ARRAYS"
   ]
  },
  {
   "cell_type": "code",
   "execution_count": 16,
   "id": "70410c84",
   "metadata": {},
   "outputs": [
    {
     "data": {
      "text/plain": [
       "array([0, 1, 2, 3])"
      ]
     },
     "execution_count": 16,
     "metadata": {},
     "output_type": "execute_result"
    }
   ],
   "source": [
    "# 1D arrnagement\n",
    "a = np.arange(4)\n",
    "a"
   ]
  },
  {
   "cell_type": "code",
   "execution_count": 19,
   "id": "f34bc005",
   "metadata": {},
   "outputs": [
    {
     "data": {
      "text/plain": [
       "array([[0, 1, 2, 3, 4],\n",
       "       [5, 6, 7, 8, 9]])"
      ]
     },
     "execution_count": 19,
     "metadata": {},
     "output_type": "execute_result"
    }
   ],
   "source": [
    "# 2D arrangement\n",
    "b = np.arange(10).reshape(2,5)\n",
    "b"
   ]
  },
  {
   "cell_type": "code",
   "execution_count": 21,
   "id": "83873147",
   "metadata": {},
   "outputs": [
    {
     "data": {
      "text/plain": [
       "array([[[ 0,  1],\n",
       "        [ 2,  3],\n",
       "        [ 4,  5]],\n",
       "\n",
       "       [[ 6,  7],\n",
       "        [ 8,  9],\n",
       "        [10, 11]],\n",
       "\n",
       "       [[12, 13],\n",
       "        [14, 15],\n",
       "        [16, 17]]])"
      ]
     },
     "execution_count": 21,
     "metadata": {},
     "output_type": "execute_result"
    }
   ],
   "source": [
    "# 3D arranement\n",
    "c = np.arange(18).reshape(3,3,2)\n",
    "c"
   ]
  },
  {
   "cell_type": "markdown",
   "id": "00b82886",
   "metadata": {},
   "source": [
    "BASIC OPERATIONS"
   ]
  },
  {
   "cell_type": "code",
   "execution_count": 29,
   "id": "fbc630a5",
   "metadata": {},
   "outputs": [
    {
     "data": {
      "text/plain": [
       "array([54, 66, 87, 34, 23])"
      ]
     },
     "execution_count": 29,
     "metadata": {},
     "output_type": "execute_result"
    }
   ],
   "source": [
    "x = np.array([54,66,87,34,23])\n",
    "x"
   ]
  },
  {
   "cell_type": "code",
   "execution_count": 30,
   "id": "923a4ee8",
   "metadata": {},
   "outputs": [
    {
     "data": {
      "text/plain": [
       "array([35, 76,  4, 78, 91])"
      ]
     },
     "execution_count": 30,
     "metadata": {},
     "output_type": "execute_result"
    }
   ],
   "source": [
    "y = np.array([35,76,4,78,91])\n",
    "y"
   ]
  },
  {
   "cell_type": "code",
   "execution_count": 32,
   "id": "60cd4cc2",
   "metadata": {},
   "outputs": [
    {
     "data": {
      "text/plain": [
       "array([ 89, 142,  91, 112, 114])"
      ]
     },
     "execution_count": 32,
     "metadata": {},
     "output_type": "execute_result"
    }
   ],
   "source": [
    "# addition\n",
    "addn = x + y\n",
    "addn"
   ]
  },
  {
   "cell_type": "code",
   "execution_count": 33,
   "id": "1cf3c487",
   "metadata": {},
   "outputs": [
    {
     "data": {
      "text/plain": [
       "array([ 19, -10,  83, -44, -68])"
      ]
     },
     "execution_count": 33,
     "metadata": {},
     "output_type": "execute_result"
    }
   ],
   "source": [
    "# subtraction\n",
    "subt = x - y\n",
    "subt"
   ]
  },
  {
   "cell_type": "code",
   "execution_count": 38,
   "id": "5350b745",
   "metadata": {},
   "outputs": [
    {
     "data": {
      "text/plain": [
       "array([157464, 287496, 658503,  39304,  12167], dtype=int32)"
      ]
     },
     "execution_count": 38,
     "metadata": {},
     "output_type": "execute_result"
    }
   ],
   "source": [
    "# multiplication\n",
    "multi = x ** 3\n",
    "multi"
   ]
  },
  {
   "cell_type": "code",
   "execution_count": 36,
   "id": "24fb816f",
   "metadata": {},
   "outputs": [
    {
     "data": {
      "text/plain": [
       "array([ True, False,  True, False, False])"
      ]
     },
     "execution_count": 36,
     "metadata": {},
     "output_type": "execute_result"
    }
   ],
   "source": [
    "# comparative operation (boolean)\n",
    "y < 56"
   ]
  },
  {
   "cell_type": "markdown",
   "id": "4ba83591",
   "metadata": {},
   "source": [
    "MATRICES"
   ]
  },
  {
   "cell_type": "code",
   "execution_count": 42,
   "id": "09be4768",
   "metadata": {},
   "outputs": [
    {
     "data": {
      "text/plain": [
       "array([[1, 2, 3],\n",
       "       [4, 5, 6],\n",
       "       [7, 8, 9]])"
      ]
     },
     "execution_count": 42,
     "metadata": {},
     "output_type": "execute_result"
    }
   ],
   "source": [
    "m = np.array([[1,2,3],\n",
    "      [4,5,6],\n",
    "      [7,8,9]])\n",
    "m"
   ]
  },
  {
   "cell_type": "code",
   "execution_count": 44,
   "id": "84d5c3ae",
   "metadata": {},
   "outputs": [
    {
     "data": {
      "text/plain": [
       "array([[3, 4, 5],\n",
       "       [6, 7, 8],\n",
       "       [9, 1, 2]])"
      ]
     },
     "execution_count": 44,
     "metadata": {},
     "output_type": "execute_result"
    }
   ],
   "source": [
    "n = np.array([[3,4,5],\n",
    "      [6,7,8],\n",
    "      [9,1,2]])\n",
    "n"
   ]
  },
  {
   "cell_type": "code",
   "execution_count": 45,
   "id": "66881446",
   "metadata": {},
   "outputs": [
    {
     "data": {
      "text/plain": [
       "array([[ 3,  8, 15],\n",
       "       [24, 35, 48],\n",
       "       [63,  8, 18]])"
      ]
     },
     "execution_count": 45,
     "metadata": {},
     "output_type": "execute_result"
    }
   ],
   "source": [
    "# ELEMENTWISE PRODUCT\n",
    "m*n"
   ]
  },
  {
   "cell_type": "code",
   "execution_count": 46,
   "id": "bb8ee2c1",
   "metadata": {},
   "outputs": [
    {
     "data": {
      "text/plain": [
       "array([[ 42,  21,  27],\n",
       "       [ 96,  57,  72],\n",
       "       [150,  93, 117]])"
      ]
     },
     "execution_count": 46,
     "metadata": {},
     "output_type": "execute_result"
    }
   ],
   "source": [
    "# MATRIX PRODUCT\n",
    "m@n"
   ]
  },
  {
   "cell_type": "code",
   "execution_count": 47,
   "id": "8bd585b0",
   "metadata": {},
   "outputs": [
    {
     "data": {
      "text/plain": [
       "array([[ 42,  21,  27],\n",
       "       [ 96,  57,  72],\n",
       "       [150,  93, 117]])"
      ]
     },
     "execution_count": 47,
     "metadata": {},
     "output_type": "execute_result"
    }
   ],
   "source": [
    "#ANOTHER MATRIX PRODUCT\n",
    "m.dot(n)"
   ]
  },
  {
   "cell_type": "markdown",
   "id": "c60afd65",
   "metadata": {},
   "source": [
    "MATHEMATICAL OPERATION"
   ]
  },
  {
   "cell_type": "code",
   "execution_count": 50,
   "id": "862eacbe",
   "metadata": {},
   "outputs": [
    {
     "data": {
      "text/plain": [
       "array([[1, 2, 3],\n",
       "       [4, 5, 6],\n",
       "       [7, 8, 9]])"
      ]
     },
     "execution_count": 50,
     "metadata": {},
     "output_type": "execute_result"
    }
   ],
   "source": [
    "m"
   ]
  },
  {
   "cell_type": "code",
   "execution_count": 51,
   "id": "f7913574",
   "metadata": {},
   "outputs": [
    {
     "data": {
      "text/plain": [
       "array([[3, 4, 5],\n",
       "       [6, 7, 8],\n",
       "       [9, 1, 2]])"
      ]
     },
     "execution_count": 51,
     "metadata": {},
     "output_type": "execute_result"
    }
   ],
   "source": [
    "n"
   ]
  },
  {
   "cell_type": "code",
   "execution_count": 56,
   "id": "3e602e93",
   "metadata": {},
   "outputs": [
    {
     "data": {
      "text/plain": [
       "45"
      ]
     },
     "execution_count": 56,
     "metadata": {},
     "output_type": "execute_result"
    }
   ],
   "source": [
    "# sum of each column\n",
    "m.sum()"
   ]
  },
  {
   "cell_type": "code",
   "execution_count": 54,
   "id": "00777c3e",
   "metadata": {},
   "outputs": [
    {
     "data": {
      "text/plain": [
       "1"
      ]
     },
     "execution_count": 54,
     "metadata": {},
     "output_type": "execute_result"
    }
   ],
   "source": [
    "# min of each row\n",
    "n.min()"
   ]
  },
  {
   "cell_type": "code",
   "execution_count": 55,
   "id": "7fa48438",
   "metadata": {},
   "outputs": [
    {
     "data": {
      "text/plain": [
       "array([ 1,  3,  6, 10, 15, 21, 28, 36, 45], dtype=int32)"
      ]
     },
     "execution_count": 55,
     "metadata": {},
     "output_type": "execute_result"
    }
   ],
   "source": [
    "# cumulative sum along each row\n",
    "m.cumsum()"
   ]
  },
  {
   "cell_type": "markdown",
   "id": "11245bb4",
   "metadata": {},
   "source": [
    "INDEXING, SPLICING, INTERATING"
   ]
  },
  {
   "cell_type": "code",
   "execution_count": 57,
   "id": "555fabac",
   "metadata": {},
   "outputs": [
    {
     "data": {
      "text/plain": [
       "array([54, 66, 87, 34, 23])"
      ]
     },
     "execution_count": 57,
     "metadata": {},
     "output_type": "execute_result"
    }
   ],
   "source": [
    "x"
   ]
  },
  {
   "cell_type": "code",
   "execution_count": 58,
   "id": "f101455d",
   "metadata": {},
   "outputs": [
    {
     "data": {
      "text/plain": [
       "array([35, 76,  4, 78, 91])"
      ]
     },
     "execution_count": 58,
     "metadata": {},
     "output_type": "execute_result"
    }
   ],
   "source": [
    "y"
   ]
  },
  {
   "cell_type": "code",
   "execution_count": 59,
   "id": "6b94b706",
   "metadata": {},
   "outputs": [
    {
     "data": {
      "text/plain": [
       "array([87, 34])"
      ]
     },
     "execution_count": 59,
     "metadata": {},
     "output_type": "execute_result"
    }
   ],
   "source": [
    "x[2:4]"
   ]
  },
  {
   "cell_type": "code",
   "execution_count": 60,
   "id": "b3644d86",
   "metadata": {},
   "outputs": [
    {
     "data": {
      "text/plain": [
       "array([35, 76,  4])"
      ]
     },
     "execution_count": 60,
     "metadata": {},
     "output_type": "execute_result"
    }
   ],
   "source": [
    "y[:3]"
   ]
  },
  {
   "cell_type": "code",
   "execution_count": 61,
   "id": "e184700a",
   "metadata": {},
   "outputs": [
    {
     "data": {
      "text/plain": [
       "array([23, 34, 87, 66, 54])"
      ]
     },
     "execution_count": 61,
     "metadata": {},
     "output_type": "execute_result"
    }
   ],
   "source": [
    "# reversing the array\n",
    "x[::-1]"
   ]
  },
  {
   "cell_type": "code",
   "execution_count": 66,
   "id": "3add0c72",
   "metadata": {},
   "outputs": [
    {
     "data": {
      "text/plain": [
       "array([35,  4, 91])"
      ]
     },
     "execution_count": 66,
     "metadata": {},
     "output_type": "execute_result"
    }
   ],
   "source": [
    "#splicing by 2 spaces\n",
    "y[::2]"
   ]
  },
  {
   "cell_type": "code",
   "execution_count": 68,
   "id": "67521883",
   "metadata": {},
   "outputs": [
    {
     "name": "stdout",
     "output_type": "stream",
     "text": [
      "54\n",
      "66\n",
      "87\n",
      "34\n",
      "23\n"
     ]
    }
   ],
   "source": [
    "# iterating\n",
    "for i in x:\n",
    "    print(i)"
   ]
  },
  {
   "cell_type": "code",
   "execution_count": 69,
   "id": "50aad1e7",
   "metadata": {},
   "outputs": [
    {
     "data": {
      "text/plain": [
       "array([[2, 5, 7],\n",
       "       [8, 3, 5],\n",
       "       [2, 9, 4]])"
      ]
     },
     "execution_count": 69,
     "metadata": {},
     "output_type": "execute_result"
    }
   ],
   "source": [
    "arr1"
   ]
  },
  {
   "cell_type": "code",
   "execution_count": 70,
   "id": "c152cc78",
   "metadata": {},
   "outputs": [
    {
     "data": {
      "text/plain": [
       "array([[2, 8, 2],\n",
       "       [5, 3, 9],\n",
       "       [7, 5, 4]])"
      ]
     },
     "execution_count": 70,
     "metadata": {},
     "output_type": "execute_result"
    }
   ],
   "source": [
    "# transvered array\n",
    "arr1.T"
   ]
  },
  {
   "cell_type": "code",
   "execution_count": 71,
   "id": "1af41943",
   "metadata": {},
   "outputs": [
    {
     "data": {
      "text/plain": [
       "array([[2, 5, 7],\n",
       "       [8, 3, 5],\n",
       "       [2, 9, 4]])"
      ]
     },
     "execution_count": 71,
     "metadata": {},
     "output_type": "execute_result"
    }
   ],
   "source": [
    "# Here it shows that it doesnt affect the original array\n",
    "arr1"
   ]
  },
  {
   "cell_type": "markdown",
   "id": "ec550b3b",
   "metadata": {},
   "source": [
    "SPLITTING"
   ]
  },
  {
   "cell_type": "code",
   "execution_count": 73,
   "id": "1a1f80cf",
   "metadata": {},
   "outputs": [
    {
     "data": {
      "text/plain": [
       "[array([[2],\n",
       "        [8],\n",
       "        [2]]),\n",
       " array([[5],\n",
       "        [3],\n",
       "        [9]]),\n",
       " array([[7],\n",
       "        [5],\n",
       "        [4]])]"
      ]
     },
     "execution_count": 73,
     "metadata": {},
     "output_type": "execute_result"
    }
   ],
   "source": [
    "# splitting the array\n",
    "np.hsplit(arr1,3)"
   ]
  },
  {
   "cell_type": "code",
   "execution_count": 76,
   "id": "1a09cb3c",
   "metadata": {},
   "outputs": [
    {
     "data": {
      "text/plain": [
       "array([54, 66, 87, 34, 23])"
      ]
     },
     "execution_count": 76,
     "metadata": {},
     "output_type": "execute_result"
    }
   ],
   "source": [
    "x"
   ]
  },
  {
   "cell_type": "code",
   "execution_count": 77,
   "id": "30acdc25",
   "metadata": {},
   "outputs": [
    {
     "data": {
      "text/plain": [
       "array([23, 34, 54, 66, 87])"
      ]
     },
     "execution_count": 77,
     "metadata": {},
     "output_type": "execute_result"
    }
   ],
   "source": [
    "# sorting the array\n",
    "np.sort(x)"
   ]
  },
  {
   "cell_type": "code",
   "execution_count": 78,
   "id": "f979f43a",
   "metadata": {},
   "outputs": [
    {
     "data": {
      "text/plain": [
       "array([35, 76,  4, 78, 91])"
      ]
     },
     "execution_count": 78,
     "metadata": {},
     "output_type": "execute_result"
    }
   ],
   "source": [
    "y"
   ]
  },
  {
   "cell_type": "code",
   "execution_count": 80,
   "id": "c59a9d11",
   "metadata": {},
   "outputs": [
    {
     "data": {
      "text/plain": [
       "array([54, 66, 87, 34, 23, 35, 76,  4, 78, 91])"
      ]
     },
     "execution_count": 80,
     "metadata": {},
     "output_type": "execute_result"
    }
   ],
   "source": [
    "# joining the 2 arrays\n",
    "np.concatenate((x,y), axis = 0)"
   ]
  },
  {
   "cell_type": "markdown",
   "id": "8b009df1",
   "metadata": {},
   "source": [
    "RESHAPING THE ARRAY AND CONVERTING 1D INTO 2D"
   ]
  },
  {
   "cell_type": "code",
   "execution_count": 81,
   "id": "b84116fe",
   "metadata": {},
   "outputs": [
    {
     "data": {
      "text/plain": [
       "array([0, 1, 2, 3, 4, 5, 6, 7, 8, 9])"
      ]
     },
     "execution_count": 81,
     "metadata": {},
     "output_type": "execute_result"
    }
   ],
   "source": [
    "r = np.arange(10)\n",
    "r"
   ]
  },
  {
   "cell_type": "code",
   "execution_count": 82,
   "id": "f6f84cac",
   "metadata": {},
   "outputs": [
    {
     "data": {
      "text/plain": [
       "array([[0, 1],\n",
       "       [2, 3],\n",
       "       [4, 5],\n",
       "       [6, 7],\n",
       "       [8, 9]])"
      ]
     },
     "execution_count": 82,
     "metadata": {},
     "output_type": "execute_result"
    }
   ],
   "source": [
    "# reshaping the array\n",
    "s = r.reshape(5,2)\n",
    "s"
   ]
  },
  {
   "cell_type": "code",
   "execution_count": 86,
   "id": "3ffea20f",
   "metadata": {},
   "outputs": [
    {
     "data": {
      "text/plain": [
       "array([0, 1, 2, 3, 4, 5, 6, 7, 8, 9])"
      ]
     },
     "execution_count": 86,
     "metadata": {},
     "output_type": "execute_result"
    }
   ],
   "source": [
    "# flattening the array\n",
    "s.flatten()"
   ]
  },
  {
   "cell_type": "markdown",
   "id": "ab80e907",
   "metadata": {},
   "source": [
    "UNIQUE VALUES"
   ]
  },
  {
   "cell_type": "code",
   "execution_count": 84,
   "id": "4476e93d",
   "metadata": {},
   "outputs": [
    {
     "data": {
      "text/plain": [
       "array([1, 1, 2, 2, 3, 3, 4, 4, 5, 5])"
      ]
     },
     "execution_count": 84,
     "metadata": {},
     "output_type": "execute_result"
    }
   ],
   "source": [
    "u = np.array([1,1,2,2,3,3,4,4,5,5])\n",
    "u"
   ]
  },
  {
   "cell_type": "code",
   "execution_count": 85,
   "id": "d4dcaf02",
   "metadata": {},
   "outputs": [
    {
     "data": {
      "text/plain": [
       "array([1, 2, 3, 4, 5])"
      ]
     },
     "execution_count": 85,
     "metadata": {},
     "output_type": "execute_result"
    }
   ],
   "source": [
    "# fetching unique values\n",
    "uniq = np.unique(u)\n",
    "uniq"
   ]
  },
  {
   "cell_type": "code",
   "execution_count": 87,
   "id": "fafdb9e6",
   "metadata": {},
   "outputs": [],
   "source": [
    "# to know more about the array\n",
    "u?"
   ]
  }
 ],
 "metadata": {
  "kernelspec": {
   "display_name": "Python 3 (ipykernel)",
   "language": "python",
   "name": "python3"
  },
  "language_info": {
   "codemirror_mode": {
    "name": "ipython",
    "version": 3
   },
   "file_extension": ".py",
   "mimetype": "text/x-python",
   "name": "python",
   "nbconvert_exporter": "python",
   "pygments_lexer": "ipython3",
   "version": "3.9.7"
  }
 },
 "nbformat": 4,
 "nbformat_minor": 5
}
