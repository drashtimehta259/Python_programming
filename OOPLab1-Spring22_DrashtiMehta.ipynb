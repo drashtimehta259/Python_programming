{
 "cells": [
  {
   "cell_type": "markdown",
   "metadata": {},
   "source": [
    "Name:Drashti Mehta  \n",
    "Email: dmehta12@uncc.edu\n",
    "\n",
    "\n",
    "## Part 1 - Sequence Class\n",
    "\n",
    "Write a Sequence class. In the __init__ method, you should initialized one attribute, a String that represents a DNA Sequence\n",
    "This class should also have the following magic methods we discussed in class yesterday:\n",
    "\n",
    "- __repr__ and __str__\n",
    "- __eq__ and __lt__ (then use the decorator I demonstrated)\n",
    "\n",
    "It is up to you to decide how these should be implemented. For instance, what criteria do you think makes the most sense for saying two sequences are equal to one another? What criteria for one sequence to be considered \"less than\" another?"
   ]
  },
  {
   "cell_type": "code",
   "execution_count": 2,
   "metadata": {},
   "outputs": [],
   "source": [
    "#sequence class goes here\n",
    "from functools import total_ordering\n",
    "@total_ordering\n",
    "\n",
    "# class creation\n",
    "class Seq:\n",
    "    def __init__(self, seqs):\n",
    "        self.seqs = seqs\n",
    "    # for the formal conversion of the string, repr is used\n",
    "    def __repr__(self):\n",
    "        return \"Sequence = {}\".format(self.seqs)\n",
    "    # to informally convert string, str is used\n",
    "    def __str__(self):\n",
    "        return \"DNA Sequence = '{}'\".format(self.seqs)\n",
    "    # when we want to define criteria for two sequences, we use eq and lt\n",
    "    def __eq__(self, other):\n",
    "        return self.seqs == other.seqs\n",
    "    def __lt__(self, other):\n",
    "        return len(self.seqs) < len(other.seqs)"
   ]
  },
  {
   "cell_type": "code",
   "execution_count": 3,
   "metadata": {},
   "outputs": [],
   "source": [
    "#Use this cell for testing your Sequence class. Show us what tests you ran to confirm your methods worked correctly\n",
    "\n",
    "\n",
    "# mentioning a random seqeunce for DNA as a sample\n",
    "dna1 = Seq(\"ATGCTAGCATGCATATCGATC\")\n",
    "# mentioning a random seqeunce for DNA as a sample\n",
    "dna2 = Seq(\"ATCGAGCATCGATCG\")\n"
   ]
  },
  {
   "cell_type": "code",
   "execution_count": 4,
   "metadata": {
    "scrolled": true
   },
   "outputs": [
    {
     "name": "stdout",
     "output_type": "stream",
     "text": [
      "Sequence = ATGCTAGCATGCATATCGATC\n"
     ]
    }
   ],
   "source": [
    "#using repr for formal conversion of string\n",
    "print(repr(dna1))"
   ]
  },
  {
   "cell_type": "code",
   "execution_count": 5,
   "metadata": {},
   "outputs": [
    {
     "name": "stdout",
     "output_type": "stream",
     "text": [
      "DNA Sequence = 'ATGCTAGCATGCATATCGATC'\n"
     ]
    }
   ],
   "source": [
    "#using str for informal conversion of string\n",
    "print(str(dna1))"
   ]
  },
  {
   "cell_type": "code",
   "execution_count": 6,
   "metadata": {
    "scrolled": false
   },
   "outputs": [
    {
     "name": "stdout",
     "output_type": "stream",
     "text": [
      "False\n"
     ]
    }
   ],
   "source": [
    "# comparing lengths of two strings\n",
    "print(dna1 < dna2)"
   ]
  },
  {
   "cell_type": "code",
   "execution_count": 7,
   "metadata": {},
   "outputs": [
    {
     "name": "stdout",
     "output_type": "stream",
     "text": [
      "False\n"
     ]
    }
   ],
   "source": [
    "# comparing if both strings are equal or not\n",
    "print(dna1 == dna2)"
   ]
  },
  {
   "cell_type": "markdown",
   "metadata": {},
   "source": [
    "## Part 2 - SequenceRecord Class\n",
    "\n",
    "Write a class called Sequence Record. This class should have two attributes:\n",
    "\n",
    "- A label/title (something that describe the source of the sequence, like the contents of a header line in a FASTA file)\n",
    "- and a Sequence object \n",
    "\n",
    "Your initializer should attempt to confirm that the second attribute is, in fact, a Sequence object. Consider the following code and how it could be applied here\n",
    "\n",
    "```\n",
    ">>> s = \"hello\"\n",
    ">>> type(s) == str\n",
    "True \n",
    "```\n",
    "\n",
    "You should also, at minimum, add a __str__ and __repr__ method."
   ]
  },
  {
   "cell_type": "code",
   "execution_count": 8,
   "metadata": {},
   "outputs": [],
   "source": [
    "# SequenceRecord class goes here\n",
    "\n",
    "# creation of a Sequence Record class\n",
    "class SequenceRecord:\n",
    "    def __init__(self, label, seq):\n",
    "        self.label = label\n",
    "        if type(seq) is Seq:\n",
    "            self.Seq = seq\n",
    "    # using repr and str\n",
    "    def __repr__(self):\n",
    "        return \"As per repr -> Label: {}, Object type is Sequence: {}, Sequence: {}\".format(self.label, isinstance(self.Seq, Seq), self.Seq.seqs)\n",
    "    def __str__(self):\n",
    "        return \"As per str -> Label: {}, Object type is Sequence: {}, Sequence: {}\".format(self.label, isinstance(self.Seq, Seq), self.Seq.seqs) "
   ]
  },
  {
   "cell_type": "code",
   "execution_count": 9,
   "metadata": {
    "scrolled": true
   },
   "outputs": [
    {
     "name": "stdout",
     "output_type": "stream",
     "text": [
      "As per repr -> Label: Mouse, Object type is Sequence: True, Sequence: ATGCTAGCATGCATATCGATC\n"
     ]
    }
   ],
   "source": [
    "# Use this cell to test your SequenceRecord class\n",
    "\n",
    "dnaseq = SequenceRecord ('Mouse', dna1)\n",
    "print(repr(dnaseq))"
   ]
  },
  {
   "cell_type": "code",
   "execution_count": 10,
   "metadata": {},
   "outputs": [
    {
     "name": "stdout",
     "output_type": "stream",
     "text": [
      "As per str -> Label: Mouse, Object type is Sequence: True, Sequence: ATGCTAGCATGCATATCGATC\n"
     ]
    }
   ],
   "source": [
    "print(dnaseq)"
   ]
  },
  {
   "cell_type": "markdown",
   "metadata": {},
   "source": [
    "## Part 3 - Parsing using your new classes\n",
    "\n",
    "Build yourself a test FASTA file with approx 3 simple records. Read in this file, and use it contents to create a SequenceRecords for each record in the file. \n",
    "\n",
    "- Please note this process is identical to what we did previously with FASTA parsing, only before we used a dictionary where the key stored the header info, and the value stored the sequence info. Now, our SequenceRecord object holds BOTH pieces.\n",
    "\n",
    "Be sure to confirm your SequenceRecord objects hold the correct information.\n",
    "\n",
    "For extra credit, write your parser as a generator."
   ]
  },
  {
   "cell_type": "code",
   "execution_count": 30,
   "metadata": {},
   "outputs": [],
   "source": [
    "#CODE_WITH_BIO_PACKAGE:\n",
    "\n",
    "#Write your parser and testing code here\n",
    "\n",
    "from Bio import SeqIO\n",
    "\n",
    "#ID and Sequence list creation\n",
    "IDs = []\n",
    "Sequences = []\n",
    "\n",
    "#parsing the downloaded fasta file\n",
    "fasta_file = SeqIO.parse(open(\"D:/UNCC/Sem_2/6112_python/Gm45925.fasta\"),'fasta')\n",
    "for i in fasta_file:\n",
    "    a = str(i.id)\n",
    "    b = str(i.seq)\n",
    "    IDs.append(a)\n",
    "    Sequences.append(b)"
   ]
  },
  {
   "cell_type": "code",
   "execution_count": 31,
   "metadata": {},
   "outputs": [],
   "source": [
    "#fasta list creation\n",
    "fasta_seq = []\n",
    "for i in range(len(IDs)):\n",
    "    record = SequenceRecord(IDs[i], Seq(Sequences[i]))\n",
    "    fasta_seq.append(record)"
   ]
  },
  {
   "cell_type": "code",
   "execution_count": 32,
   "metadata": {},
   "outputs": [
    {
     "data": {
      "text/plain": [
       "1"
      ]
     },
     "execution_count": 32,
     "metadata": {},
     "output_type": "execute_result"
    }
   ],
   "source": [
    "#checking how many records are into the fasta file which is opened\n",
    "len(fasta_seq)"
   ]
  },
  {
   "cell_type": "code",
   "execution_count": 33,
   "metadata": {
    "scrolled": true
   },
   "outputs": [
    {
     "name": "stdout",
     "output_type": "stream",
     "text": [
      "As per str -> Label: NG_042092.2, Object type is Sequence: True, Sequence: GGGTAGGGGAGCAGGGTGGGAGAGGGTATAGGGGACTTTCAGGATAGCATTTGAAATGTAAATGAAGAAAATACCTAATAAATATTGGGAAAAAAAGAGTGCAGAGGTTGTGTTCAGAGATATTGTGAAATATCTCTGGATGCTCCTTGTTAGCAATCAGAACTTAAAGTACCTCAATCTAGGGAACACTCCCATGAAGGATGATGACATCAATTTTAGCCCGTGATGTGCTGAAATATCCAAGCTGCTCCCTGGAGACTCTGAGGTTGGATTCCTGTGAATTAACCCTCACTGGTTAGGAGATGATCTCCATGCTCCTCCTTTCTATCACCAGTCTAAAGTGTCTCAGCCTGGCCAAAAATAAGGTGGGGGTAAAGAGCATGATATCCCTTGAGTAGGTCAACGTGTCCACTGCAGAAGCTAATACCAGACAGCTGTGCCTCACACCTGTCAGATGCCACCTTCTGGCCTCAGCCCTTTTTAGCAACCAGAACTTGACTCACCTGAGCCTGTCAAACAACAGCCTGGGGACTGAAGAAGTGCAATAGCTGTGTCAGTTCGTGAGGAATCCAGAATGTGCTCTCCAGTGGCTGGTACTGAATCACTGCATCATTATAGATGATGCCTAAGACTTCCTGGTGTTGATACTTACAAACAACAGAAAGCTGACACATCTGTGCCTGACCATGAGCCCTGTACAGAAAAGTTCAATGAATCTACTGTGTGAAGCTTTAAAGGAGGCTACTTGTTGCCTTCAAGAACTGGAACTAGTGGGCTGCCCGCTCACAGAGAACTGCTGCCAGTACCTGTTGTATGATCACAACAACCAAGCACTTCAAAGGCTTGGTAACACTGCCCTGGGTGACAAAGGAGTCATAACTCTGTTAGAGGGACTGAAGCAAAGTAGCGGCTCCCTGGGGAGACTTGGGTTGGGAGCATGTGAGTTCACTTCCAACCACTGTGAGGCAATGTCATCGGCCCTGTCTTGCAACTCGCATCTGAACATCCTAAACCTGATGAAGAATGACTTCAGCAAATCGGGGATGTTGAAGCTGTGCTCTGTGTTCTAATGCCCTGCCTCTAATCTGTGGATAATAGGCCTGTGGAAACAGCAGTACTATGCCTAGGTGAGAAGACAGCTGGAGGGAGTGCAGTTTTTCAAGCCACATGTGGTGATTGATGGTCACCGGTATGCTATTCATAGAAGATGTCTGTAACTGGTGGAAAAACTGAAGACATGAGTCCCCTTCTCTCCTTCACATCCTAGGACTTCTTTATCTGTGAAATGTTTGTCTCACCTCAGAGGATGTAGTGAGGATGAAATAAACACAGAGCATTTAGAAAAGCAAGCAAGCAAACAAACAAACAAAACAAACTTTACATGCATGTCTGTGTGGCCAATGCGGTTAAGAATCGAGCAGAGTCCCTGGAGCTGTCGGTTACTGACA\n"
     ]
    }
   ],
   "source": [
    "#printing the fasta file\n",
    "for i in fasta_seq:\n",
    "    print(i)"
   ]
  },
  {
   "cell_type": "markdown",
   "metadata": {},
   "source": [
    "#CODE_WITH_PARSER:\n",
    "\n",
    "def fastaParser(file):\n",
    "    with open(\"D:/UNCC/Sem_2/6112_python/Gm45925.fasta\") as fh:\n",
    "        seq = \"\"\n",
    "        Header = None\n",
    "        for line in fh:\n",
    "        #open(\"D:/UNCC/Sem_2/6112_python/Gm45925.fasta\"):\n",
    "            if line.startswith(\">\"):\n",
    "                if Header:\n",
    "                    record.append = SequenceRecord(Seq(seq), Header)\n",
    "                    seq = \"\"\n",
    "                    Header = line.rstrip().lstrip(\">\")\n",
    "                else:\n",
    "                    seq += line.strip()\n",
    "        #record.append = SequenceRecord(Seq(seq), Header)"
   ]
  },
  {
   "cell_type": "markdown",
   "metadata": {},
   "source": [
    "file = fastaParser(\"D:/UNCC/Sem_2/6112_python/Gm45925.fasta\")"
   ]
  }
 ],
 "metadata": {
  "kernelspec": {
   "display_name": "Python 3 (ipykernel)",
   "language": "python",
   "name": "python3"
  },
  "language_info": {
   "codemirror_mode": {
    "name": "ipython",
    "version": 3
   },
   "file_extension": ".py",
   "mimetype": "text/x-python",
   "name": "python",
   "nbconvert_exporter": "python",
   "pygments_lexer": "ipython3",
   "version": "3.9.7"
  }
 },
 "nbformat": 4,
 "nbformat_minor": 4
}
